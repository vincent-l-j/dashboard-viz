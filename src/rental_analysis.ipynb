{
 "cells": [
  {
   "cell_type": "markdown",
   "metadata": {},
   "source": [
    "# Toronto Dwellings Analysis\n",
    "\n",
    "In this assignment, you will perform fundamental analysis for the Toronto dwellings market to allow potential real estate investors to choose rental investment properties."
   ]
  },
  {
   "cell_type": "code",
   "execution_count": 1,
   "metadata": {},
   "outputs": [],
   "source": [
    "# imports\n",
    "import panel as pn\n",
    "pn.extension('plotly')\n",
    "import plotly.express as px\n",
    "import pandas as pd\n",
    "import hvplot.pandas\n",
    "import matplotlib.pyplot as plt\n",
    "import os\n",
    "from pathlib import Path\n",
    "from dotenv import load_dotenv"
   ]
  },
  {
   "cell_type": "code",
   "execution_count": null,
   "metadata": {},
   "outputs": [],
   "source": [
    "# imports\n",
    "import panel as pn\n",
    "pn.extension('plotly')\n",
    "import plotly.express as px\n",
    "import pandas as pd\n",
    "import hvplot.pandas\n",
    "import matplotlib.pyplot as plt\n",
    "import os\n",
    "from pathlib import Path\n",
    "from dotenv import load_dotenv\n",
    "from panel.interact import interact\n"
   ]
  },
  {
   "cell_type": "code",
   "execution_count": 2,
   "metadata": {},
   "outputs": [],
   "source": [
    "# Read the Mapbox API key\n",
    "load_dotenv()\n",
    "map_box_api = os.getenv(\"MAPBOX\")"
   ]
  },
  {
   "cell_type": "markdown",
   "metadata": {},
   "source": [
    "## Load Data"
   ]
  },
  {
   "cell_type": "code",
   "execution_count": 3,
   "metadata": {},
   "outputs": [],
   "source": [
    "# Read the census data into a Pandas DataFrame\n",
    "file_path = Path(\"Data/toronto_neighbourhoods_census_data.csv\")\n",
    "to_data = pd.read_csv(file_path, index_col=\"year\")\n",
    "to_data.head()"
   ]
  },
  {
   "cell_type": "markdown",
   "metadata": {},
   "source": [
    "- - - "
   ]
  },
  {
   "cell_type": "markdown",
   "metadata": {},
   "source": [
    "## Dwelling Types Per Year\n",
    "\n",
    "In this section, you will calculate the number of dwelling types per year. Visualize the results using bar charts and the Pandas plot function. \n",
    "\n",
    "**Hint:** Use the Pandas `groupby` function.\n",
    "\n",
    "**Optional challenge:** Plot each bar chart in a different color."
   ]
  },
  {
   "cell_type": "code",
   "execution_count": 4,
   "metadata": {},
   "outputs": [],
   "source": [
    "# Select the dwelling type columns\n",
    "dwelling_types = [\n",
    "    'single_detached_house',\n",
    "    'apartment_five_storeys_plus',\n",
    "    'movable_dwelling',\n",
    "    'semi_detached_house',\n",
    "    'row_house',\n",
    "    'duplex',\n",
    "    'apartment_five_storeys_less',\n",
    "    'other_house'\n",
    "]\n",
    "# Calculate the sum number of dwelling types units per year (hint: use groupby)\n",
    "dwelling_sum = to_data[dwelling_types].groupby([to_data.index]).sum()\n",
    "dwelling_sum"
   ]
  },
  {
   "cell_type": "code",
   "execution_count": 5,
   "metadata": {},
   "outputs": [],
   "source": [
    "# Save the dataframe as a csv file\n",
    "dwelling_sum.to_csv('Data/dwelling_sum.csv')"
   ]
  },
  {
   "cell_type": "code",
   "execution_count": 6,
   "metadata": {},
   "outputs": [],
   "source": [
    "# Helper create_bar_chart function\n",
    "def create_bar_chart(data, title, xlabel, ylabel, color):\n",
    "    \"\"\"\n",
    "    Create a barplot based in the data argument.\n",
    "    \"\"\"\n",
    "    return data.hvplot.bar(\n",
    "        title=title,\n",
    "        xlabel=xlabel,\n",
    "        ylabel=ylabel,\n",
    "        color=color,\n",
    "        rot=90,\n",
    "        yformatter='%.0f'\n",
    "    )"
   ]
  },
  {
   "cell_type": "code",
   "execution_count": 7,
   "metadata": {},
   "outputs": [],
   "source": [
    "# Set bar chart colors\n",
    "colors = ['red', 'blue', 'orange', 'pink']\n",
    "# Create a bar chart per year to show the number of dwelling types\n",
    "bar_charts = [\n",
    "    create_bar_chart(\n",
    "        dwelling_sum.loc[year],     \n",
    "        f'Dwelling Types in Toronto in {year}',\n",
    "        str(year),\n",
    "        \"Dwelling Type Units\",\n",
    "        color,\n",
    "    )\n",
    "    for (year, color) in zip(dwelling_sum.index, colors)\n",
    "]\n",
    "# Plot the charts on a 2x2 grid\n",
    "pane_dwelling_types = pn.Column(\n",
    "    \"# Dwelling Types in Toronto\",\n",
    "    pn.Row(*bar_charts[:2]),\n",
    "    pn.Row(*bar_charts[2:]),\n",
    ")\n",
    "pane_dwelling_types"
   ]
  },
  {
   "cell_type": "markdown",
   "metadata": {},
   "source": [
    "- - - "
   ]
  },
  {
   "cell_type": "markdown",
   "metadata": {},
   "source": [
    "## Average Monthly Shelter Costs in Toronto Per Year\n",
    "\n",
    "In this section, you will calculate the average monthly shelter costs for owned and rented dwellings and the average house value for each year. Plot the results as a line chart.\n",
    "\n",
    "**Optional challenge:** Plot each line chart in a different color."
   ]
  },
  {
   "cell_type": "code",
   "execution_count": 8,
   "metadata": {},
   "outputs": [],
   "source": [
    "# Calculate the average monthly shelter costs for owned and rented dwellings\n",
    "shelter_cols = ['shelter_costs_owned', 'shelter_costs_rented']\n",
    "df_shelter_costs = to_data[shelter_cols].groupby([to_data.index]).mean()\n",
    "df_shelter_costs"
   ]
  },
  {
   "cell_type": "code",
   "execution_count": 9,
   "metadata": {},
   "outputs": [],
   "source": [
    "# Helper create_line_chart function\n",
    "def create_line_chart(data, title, xlabel, ylabel, color):\n",
    "    \"\"\"\n",
    "    Create a line chart based in the data argument.\n",
    "    \"\"\"\n",
    "    return data.hvplot.line(\n",
    "        title=title,\n",
    "        xlabel=xlabel,\n",
    "        ylabel=ylabel,\n",
    "        color=color,\n",
    "        yformatter='%.0f'\n",
    "    )"
   ]
  },
  {
   "cell_type": "code",
   "execution_count": 10,
   "metadata": {},
   "outputs": [],
   "source": [
    "# Create two line charts, one to plot the monthly shelter costs for owned dwellings and other for rented dwellings per year\n",
    "\n",
    "# Line chart for owned dwellings\n",
    "line_owned = create_line_chart(\n",
    "    df_shelter_costs['shelter_costs_owned'],\n",
    "    title='Average Monthly Shelter Costs for Owned Dwellings in Toronto',\n",
    "    xlabel='Year',\n",
    "    ylabel='Avg Monthly Shelter Costs',\n",
    "    color='blue',\n",
    ")\n",
    "\n",
    "# Line chart for rented dwellings\n",
    "line_rented = create_line_chart(\n",
    "    df_shelter_costs['shelter_costs_rented'],\n",
    "    title='Average Monthly Shelter Costs for Rented Dwellings in Toronto',\n",
    "    xlabel='Avg Monthly Shelter Costs',\n",
    "    ylabel='Year',\n",
    "    color='orange',\n",
    ")\n",
    "pane_shelter_costs = pn.Column(\n",
    "    line_owned,\n",
    "    line_rented,\n",
    ")\n",
    "pane_shelter_costs"
   ]
  },
  {
   "cell_type": "markdown",
   "metadata": {},
   "source": [
    "## Average House Value per Year\n",
    "\n",
    "In this section, you want to determine the average house value per year. An investor may want to understand better the sales price of the rental property over time. For example, a customer will want to know if they should expect an increase or decrease in the property value over time so they can determine how long to hold the rental property. You will visualize the `average_house_value` per year as a line chart."
   ]
  },
  {
   "cell_type": "code",
   "execution_count": 11,
   "metadata": {},
   "outputs": [],
   "source": [
    "# Calculate the average house value per year\n",
    "df_avg_house_value = to_data['average_house_value'].groupby([to_data.index]).mean()\n",
    "df_avg_house_value.head()"
   ]
  },
  {
   "cell_type": "code",
   "execution_count": 12,
   "metadata": {},
   "outputs": [],
   "source": [
    "# Plot the average house value per year as a line chart\n",
    "line_avg_house_value = create_line_chart(\n",
    "    df_avg_house_value,\n",
    "    title='Average House Value in Toronto',\n",
    "    xlabel='Year',\n",
    "    ylabel='Avg. House Value',\n",
    "    color='blue',\n",
    ")\n",
    "line_avg_house_value"
   ]
  },
  {
   "cell_type": "markdown",
   "metadata": {},
   "source": [
    "- - - "
   ]
  },
  {
   "cell_type": "markdown",
   "metadata": {},
   "source": [
    "## Average House Value by Neighbourhood\n",
    "\n",
    "In this section, you will use `hvplot` to create an interactive visualization of the average house value with a dropdown selector for the neighbourhood.\n",
    "\n",
    "**Hint:** It will be easier to create a new DataFrame from grouping the data and calculating the mean house values for each year and neighbourhood."
   ]
  },
  {
   "cell_type": "code",
   "execution_count": 13,
   "metadata": {},
   "outputs": [],
   "source": [
    "# Create a new DataFrame with the mean house values by neighbourhood per year\n",
    "df_house_value_neighbourhood = to_data[['neighbourhood', 'average_house_value']]\n",
    "df_house_value_neighbourhood.head()"
   ]
  },
  {
   "cell_type": "code",
   "execution_count": 14,
   "metadata": {},
   "outputs": [],
   "source": [
    "# Use hvplot to create an interactive line chart of the average house value per neighbourhood\n",
    "# The plot should have a dropdown selector for the neighbourhood\n",
    "interact(\n",
    "    lambda neighbourhood: create_line_chart(\n",
    "        df_house_value_neighbourhood[df_house_value_neighbourhood['neighbourhood'] == neighbourhood],\n",
    "        title=f'neighbourhood: {neighbourhood}',\n",
    "        xlabel='Year',\n",
    "        ylabel='Avg. House Value',\n",
    "        color='blue',\n",
    "    ),\n",
    "    neighbourhood=df_house_value_neighbourhood['neighbourhood'].unique()\n",
    ")"
   ]
  },
  {
   "cell_type": "markdown",
   "metadata": {},
   "source": [
    "## Number of Dwelling Types per Year\n",
    "\n",
    "In this section, you will use `hvplot` to create an interactive visualization of the average number of dwelling types per year with a dropdown selector for the neighbourhood."
   ]
  },
  {
   "cell_type": "code",
   "execution_count": 15,
   "metadata": {},
   "outputs": [],
   "source": [
    "# Fetch the data of all dwelling types per year\n",
    "df_dwelling_types = to_data[dwelling_types + ['neighbourhood']].groupby(['neighbourhood', to_data.index]).sum()\n",
    "df_dwelling_types.head()"
   ]
  },
  {
   "cell_type": "code",
   "execution_count": 16,
   "metadata": {},
   "outputs": [],
   "source": [
    "# Use hvplot to create an interactive bar chart of the number of dwelling types per neighbourhood\n",
    "# The plot should have a dropdown selector for the neighbourhood\n",
    "interact(\n",
    "    lambda neighbourhood: df_dwelling_types.loc[neighbourhood].hvplot.bar(\n",
    "        title=f'neighbourhood: {neighbourhood}',\n",
    "        xlabel= 'Year',\n",
    "        ylabel='Dwelling Type Units',\n",
    "        rot=90,\n",
    "        yformatter='%.0f',\n",
    "        height=500,\n",
    "    ),\n",
    "    neighbourhood=df_dwelling_types.index.levels[0]\n",
    ")"
   ]
  },
  {
   "cell_type": "markdown",
   "metadata": {},
   "source": [
    "- - - "
   ]
  },
  {
   "cell_type": "markdown",
   "metadata": {},
   "source": [
    "## The Top 10 Most Expensive Neighbourhoods\n",
    "\n",
    "In this section, you will need to calculate the house value for each neighbourhood and then sort the values to obtain the top 10 most expensive neighbourhoods on average. Plot the results as a bar chart."
   ]
  },
  {
   "cell_type": "code",
   "execution_count": 17,
   "metadata": {},
   "outputs": [],
   "source": [
    "# Getting the data from the top 10 expensive neighbourhoods\n",
    "df_top_10_expensive_neighbourhoods = (\n",
    "    # select neighbourhood and average house value columns\n",
    "    to_data[['neighbourhood', 'average_house_value']]\n",
    "        # group by neighbourhood\n",
    "        .groupby(['neighbourhood'])\n",
    "        # calculate the mean\n",
    "        .mean()\n",
    "        # sort the values with the most expensive first\n",
    "        .sort_values(by=['average_house_value'], ascending=False)\n",
    "        # select only the top 10 (most expensive)\n",
    "        .iloc[:10]\n",
    ")"
   ]
  },
  {
   "cell_type": "code",
   "execution_count": 18,
   "metadata": {},
   "outputs": [],
   "source": [
    "# Plotting the data from the top 10 expensive neighbourhoods\n",
    "df_top_10_expensive_neighbourhoods.hvplot.bar(\n",
    "    title='Top 10 Expensive Neighbourhoods in Toronto',\n",
    "    xlabel='Neighbourhood',\n",
    "    ylabel='Avg. House Value',\n",
    "    height=500,\n",
    "    rot=90,\n",
    "    yformatter='%.0f',\n",
    ")"
   ]
  },
  {
   "cell_type": "markdown",
   "metadata": {},
   "source": [
    "- - - "
   ]
  },
  {
   "cell_type": "markdown",
   "metadata": {},
   "source": [
    "## Neighbourhood Map\n",
    "\n",
    "In this section, you will read in neighbourhoods location data and build an interactive map with the average house value per neighbourhood. Use a `scatter_mapbox` from Plotly express to create the visualization. Remember, you will need your Mapbox API key for this."
   ]
  },
  {
   "cell_type": "markdown",
   "metadata": {},
   "source": [
    "### Load Location Data"
   ]
  },
  {
   "cell_type": "code",
   "execution_count": 19,
   "metadata": {},
   "outputs": [],
   "source": [
    "# Load neighbourhoods coordinates data\n",
    "file_path = Path(\"Data/toronto_neighbourhoods_coordinates.csv\")\n",
    "df_neighbourhood_locations = pd.read_csv(file_path, index_col='neighbourhood')\n",
    "df_neighbourhood_locations.head()"
   ]
  },
  {
   "cell_type": "markdown",
   "metadata": {},
   "source": [
    "### Data Preparation\n",
    "\n",
    "You will need to join the location data with the mean values per neighbourhood.\n",
    "\n",
    "1. Calculate the mean values for each neighbourhood.\n",
    "\n",
    "2. Join the average values with the neighbourhood locations."
   ]
  },
  {
   "cell_type": "code",
   "execution_count": 20,
   "metadata": {},
   "outputs": [],
   "source": [
    "# Calculate the mean values for each neighborhood\n",
    "df_mean_value_neighbourhoods = (\n",
    "    # select neighbourhood and average house value columns\n",
    "    to_data[['neighbourhood', 'average_house_value']]\n",
    "        # group by neighbourhood\n",
    "        .groupby(['neighbourhood'])\n",
    "        # calculate the mean\n",
    "        .mean()\n",
    ")\n",
    "df_mean_value_neighbourhoods.head()"
   ]
  },
  {
   "cell_type": "code",
   "execution_count": 21,
   "metadata": {},
   "outputs": [],
   "source": [
    "# Join the average values with the neighbourhood locations\n",
    "df_neighbourhood_locations_mean = df_neighbourhood_locations.join(df_mean_value_neighbourhoods)\n",
    "df_neighbourhood_locations_mean.head()"
   ]
  },
  {
   "cell_type": "markdown",
   "metadata": {},
   "source": [
    "### Mapbox Visualization\n",
    "\n",
    "Plot the average values per neighbourhood using a Plotly express `scatter_mapbox` visualization."
   ]
  },
  {
   "cell_type": "code",
   "execution_count": 22,
   "metadata": {},
   "outputs": [],
   "source": [
    "# Create a scatter mapbox to analyze neighbourhood info\n",
    "map_plot = px.scatter_mapbox(\n",
    "    df_neighbourhood_locations_mean,\n",
    "    lat='lat',\n",
    "    lon='lon',\n",
    "    size='average_house_value',\n",
    "    color='average_house_value',\n",
    "    zoom=9,\n",
    "    mapbox_style='carto-positron',\n",
    ")\n",
    "\n",
    "# Display the map\n",
    "map_plot.show()"
   ]
  },
  {
   "cell_type": "markdown",
   "metadata": {},
   "source": [
    "- - -"
   ]
  },
  {
   "cell_type": "markdown",
   "metadata": {},
   "source": [
    "## Cost Analysis - Optional Challenge\n",
    "\n",
    "In this section, you will use Plotly express to a couple of plots that investors can interactively filter and explore various factors related to the house value of the Toronto's neighbourhoods. \n",
    "\n",
    "### Create a bar chart row facet to plot the average house values for all Toronto's neighbourhoods per year"
   ]
  },
  {
   "cell_type": "code",
   "execution_count": 23,
   "metadata": {},
   "outputs": [],
   "source": [
    "fig = px.bar(\n",
    "    # Select neighbourhood and average_house_value columns\n",
    "    to_data[['neighbourhood', 'average_house_value']],\n",
    "    # Set plot title\n",
    "    title='Average House Values in Toronto per Neighbourhood',\n",
    "    # column of x values\n",
    "    x='neighbourhood',\n",
    "    # column of y values\n",
    "    y='average_house_value',\n",
    "    # Set color scale according to average house value\n",
    "    color='average_house_value',\n",
    "    # group data by year\n",
    "    facet_row=to_data.index,\n",
    "    # Display average_house_value as 'Avg. House Value'\n",
    "    labels={\n",
    "        'average_house_value': 'Avg. House Value',\n",
    "    },\n",
    "    # Set height of plot\n",
    "    height=1000,\n",
    ")\n",
    "fig.show()"
   ]
  },
  {
   "cell_type": "markdown",
   "metadata": {},
   "source": [
    "### Create a sunburst chart to conduct a costs analysis of most expensive neighbourhoods in Toronto per year"
   ]
  },
  {
   "cell_type": "code",
   "execution_count": 24,
   "metadata": {},
   "outputs": [],
   "source": [
    "# Fetch the data from all expensive neighbourhoods per year.\n",
    "# Select neighbourhood and average house value columns\n",
    "df_top_10_expensive_neighbourhoods_year = to_data[['neighbourhood', 'average_house_value']]\n",
    "# Select the top 10 most expensive neighbourhoods\n",
    "df_top_10_expensive_neighbourhoods_year = df_top_10_expensive_neighbourhoods_year[to_data['neighbourhood'].isin(df_top_10_expensive_neighbourhoods.index)]\n",
    "# Reset index and make the year a column\n",
    "df_top_10_expensive_neighbourhoods_year.reset_index(inplace=True)\n",
    "df_top_10_expensive_neighbourhoods_year.head()"
   ]
  },
  {
   "cell_type": "code",
   "execution_count": 25,
   "metadata": {},
   "outputs": [],
   "source": [
    "# Create the sunburst chart\n",
    "fig = px.sunburst(\n",
    "    df_top_10_expensive_neighbourhoods_year,\n",
    "    title='Costs Analysis of Most Expensive Neighbourhoods in Toronto per Year',\n",
    "    path=['year', 'neighbourhood'],\n",
    "    values='average_house_value',\n",
    "    color='average_house_value',\n",
    "    labels={\n",
    "        'average_house_value': 'Avg. House Value',\n",
    "    },\n",
    ")\n",
    "fig.show()"
   ]
  }
 ],
 "metadata": {
  "file_extension": ".py",
  "interpreter": {
   "hash": "9b40c136f6a553a5f7fe572d835b5412d355ca545b0f8ff0e27aed83532e4418"
  },
  "kernelspec": {
   "display_name": "Python [conda env:pyvizenv25] *",
   "language": "python",
   "name": "python3"
  },
  "language_info": {
   "codemirror_mode": {
    "name": "ipython",
    "version": 3
   },
   "file_extension": ".py",
   "mimetype": "text/x-python",
   "name": "python",
   "nbconvert_exporter": "python",
   "pygments_lexer": "ipython3",
   "version": "3.7.11"
  },
  "mimetype": "text/x-python",
  "name": "python",
  "npconvert_exporter": "python",
  "pygments_lexer": "ipython3",
  "version": 3
 },
 "nbformat": 4,
 "nbformat_minor": 4
}
