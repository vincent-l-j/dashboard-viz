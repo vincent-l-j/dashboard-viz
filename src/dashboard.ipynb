{
 "cells": [
  {
   "cell_type": "markdown",
   "metadata": {},
   "source": [
    "# Toronto Dwellings Analysis Dashboard\n",
    "\n",
    "In this notebook, you will compile the visualizations from the previous analysis into functions to create a Panel dashboard."
   ]
  },
  {
   "cell_type": "code",
   "execution_count": null,
   "metadata": {},
   "outputs": [],
   "source": [
    "# imports\n",
    "import panel as pn\n",
    "pn.extension('plotly')\n",
    "import plotly.express as px\n",
    "import pandas as pd\n",
    "import hvplot.pandas\n",
    "import matplotlib.pyplot as plt\n",
    "import os\n",
    "from pathlib import Path\n",
    "from dotenv import load_dotenv"
   ]
  },
  {
   "cell_type": "code",
   "execution_count": null,
   "metadata": {},
   "outputs": [],
   "source": [
    "# Initialize the Panel Extensions (for Plotly)\n",
    "import panel as pn\n",
    "pn.extension(\"plotly\")\n",
    "\n",
    "# Import panel.interact\n",
    "from panel.interact import interact"
   ]
  },
  {
   "cell_type": "code",
   "execution_count": null,
   "metadata": {},
   "outputs": [],
   "source": [
    "# Read the Mapbox API key\n",
    "load_dotenv()\n",
    "map_box_api = os.getenv(\"MAPBOX\")\n",
    "px.set_mapbox_access_token(map_box_api)"
   ]
  },
  {
   "cell_type": "markdown",
   "metadata": {},
   "source": [
    "# Import Data"
   ]
  },
  {
   "cell_type": "code",
   "execution_count": null,
   "metadata": {},
   "outputs": [],
   "source": [
    "# Import the CSVs to Pandas DataFrames\n",
    "file_path = Path(\"Data/toronto_neighbourhoods_census_data.csv\")\n",
    "to_data = pd.read_csv(file_path, index_col=\"year\")\n",
    "\n",
    "file_path = Path(\"Data/toronto_neighbourhoods_coordinates.csv\")\n",
    "df_neighbourhood_locations = pd.read_csv(file_path, index_col='neighbourhood')"
   ]
  },
  {
   "cell_type": "markdown",
   "metadata": {},
   "source": [
    "- - -"
   ]
  },
  {
   "cell_type": "markdown",
   "metadata": {},
   "source": [
    "## Panel Visualizations\n",
    "\n",
    "In this section, you will copy the code for each plot type from your analysis notebook and place it into separate functions that Panel can use to create panes for the dashboard. \n",
    "\n",
    "These functions will convert the plot object to a Panel pane.\n",
    "\n",
    "Be sure to include any DataFrame transformation/manipulation code required along with the plotting code.\n",
    "\n",
    "Return a Panel pane object from each function that can be used to build the dashboard.\n",
    "\n",
    "Note: Remove any `.show()` lines from the code. We want to return the plots instead of showing them. The Panel dashboard will then display the plots."
   ]
  },
  {
   "cell_type": "markdown",
   "metadata": {},
   "source": [
    "### Global available data"
   ]
  },
  {
   "cell_type": "code",
   "execution_count": null,
   "metadata": {},
   "outputs": [],
   "source": [
    "# Getting the data from the top 10 expensive neighbourhoods\n",
    "df_top_10_expensive_neighbourhoods = (\n",
    "    # select neighbourhood and average house value columns\n",
    "    to_data[['neighbourhood', 'average_house_value']]\n",
    "        # group by neighbourhood\n",
    "        .groupby(['neighbourhood'])\n",
    "        # calculate the mean\n",
    "        .mean()\n",
    "        # sort the values with the most expensive first\n",
    "        .sort_values(by=['average_house_value'], ascending=False)\n",
    "        # select only the top 10 (most expensive)\n",
    "        .iloc[:10]\n",
    ")\n",
    "\n",
    "# Dwelling Type Columns\n",
    "dwelling_types = [\n",
    "    'single_detached_house',\n",
    "    'apartment_five_storeys_plus',\n",
    "    'movable_dwelling',\n",
    "    'semi_detached_house',\n",
    "    'row_house',\n",
    "    'duplex',\n",
    "    'apartment_five_storeys_less',\n",
    "    'other_house',\n",
    "]\n",
    "\n",
    "# Calculate the sum number of dwelling types units per year\n",
    "df_dwelling_types_sum = to_data[dwelling_types].groupby([to_data.index]).sum()\n",
    "\n",
    "# Calculate the average monthly shelter costs for owned and rented dwellings\n",
    "shelter_cols = ['shelter_costs_owned', 'shelter_costs_rented']\n",
    "df_shelter_costs = to_data[shelter_cols].groupby([to_data.index]).mean()"
   ]
  },
  {
   "cell_type": "markdown",
   "metadata": {},
   "source": [
    "### Panel Visualization Functions"
   ]
  },
  {
   "cell_type": "code",
   "execution_count": null,
   "metadata": {},
   "outputs": [],
   "source": [
    "# Define Panel visualization functions\n",
    "def neighbourhood_map():\n",
    "    \"\"\"Neighbourhood Map\"\"\"\n",
    "    # Calculate the mean values for each neighborhood\n",
    "    df_mean_value_neighbourhoods = to_data.groupby(['neighbourhood']).mean()\n",
    "    # Add coordinates\n",
    "    df_neighbourhood_locations_mean = df_neighbourhood_locations.join(df_mean_value_neighbourhoods).reset_index()\n",
    "    map_plot = px.scatter_mapbox(\n",
    "        df_neighbourhood_locations_mean,\n",
    "        title='Average House Values in Toronto',\n",
    "        lat='lat',\n",
    "        lon='lon',\n",
    "        size='average_house_value',\n",
    "        color='average_house_value',\n",
    "        zoom=9,\n",
    "        mapbox_style='open-street-map',\n",
    "        hover_name='neighbourhood',\n",
    "        hover_data=df_neighbourhood_locations_mean.columns,\n",
    "    )\n",
    "\n",
    "    return map_plot\n",
    "\n",
    "def create_bar_chart(data, title, xlabel, ylabel, color):\n",
    "    \"\"\"\n",
    "    Create a barplot based in the data argument.\n",
    "    \"\"\"\n",
    "    return data.hvplot.bar(\n",
    "        title=title,\n",
    "        xlabel=xlabel,\n",
    "        ylabel=ylabel,\n",
    "        color=color,\n",
    "        rot=90,\n",
    "        yformatter='%.0f',\n",
    "        height=500,\n",
    "    )\n",
    "\n",
    "def create_line_chart(data, title, xlabel, ylabel, color):\n",
    "    \"\"\"\n",
    "    Create a line chart based in the data argument.\n",
    "    \"\"\"\n",
    "    return data.hvplot.line(\n",
    "        title=title,\n",
    "        xlabel=xlabel,\n",
    "        ylabel=ylabel,\n",
    "        color=color,\n",
    "        yformatter='%.0f'\n",
    "    )\n",
    "\n",
    "def average_house_value():\n",
    "    \"\"\"Average house values per year.\"\"\"\n",
    "    # Calculate the average house value per year\n",
    "    return create_line_chart(\n",
    "        to_data['average_house_value'].groupby([to_data.index]).mean(),\n",
    "        title='Average House Value in Toronto',\n",
    "        xlabel='Year',\n",
    "        ylabel='Avg. House Value',\n",
    "        color='blue',\n",
    "    )\n",
    "\n",
    "def average_value_by_neighbourhood():\n",
    "    \"\"\"Average house values by neighbourhood.\"\"\"\n",
    "    df_house_value_neighbourhood = to_data[['neighbourhood', 'average_house_value']]\n",
    "    return interact(\n",
    "        lambda neighbourhood: create_line_chart(\n",
    "            df_house_value_neighbourhood[df_house_value_neighbourhood['neighbourhood'] == neighbourhood],\n",
    "            title=f'neighbourhood: {neighbourhood}',\n",
    "            xlabel='Year',\n",
    "            ylabel='Avg. House Value',\n",
    "            color='blue',\n",
    "        ),\n",
    "        neighbourhood=df_house_value_neighbourhood['neighbourhood'].unique()\n",
    "    )\n",
    "\n",
    "def number_dwelling_types():\n",
    "    \"\"\"Number of dwelling types per year\"\"\"\n",
    "    df_dwelling_types = to_data[dwelling_types + ['neighbourhood']].groupby(['neighbourhood', to_data.index]).sum()\n",
    "    # Use hvplot to create an interactive bar chart of the number of dwelling types per neighbourhood\n",
    "    # The plot should have a dropdown selector for the neighbourhood\n",
    "    return interact(\n",
    "        lambda neighbourhood: df_dwelling_types.loc[neighbourhood].hvplot.bar(\n",
    "            title=f'neighbourhood: {neighbourhood}',\n",
    "            xlabel='Year',\n",
    "            ylabel='Dwelling Type Units',\n",
    "            rot=90,\n",
    "            yformatter='%.0f',\n",
    "            height=500,\n",
    "        ),\n",
    "        neighbourhood=df_dwelling_types.index.levels[0]\n",
    "    )\n",
    "\n",
    "def average_house_value_snapshot():\n",
    "    \"\"\"Average house value for all Toronto's neighbourhoods per year.\"\"\"\n",
    "    # Calculate the average house value per year\n",
    "    return create_line_chart(\n",
    "        to_data['average_house_value'].groupby([to_data.index]).mean(),\n",
    "        title='Average House Value in Toronto',\n",
    "        xlabel='Year',\n",
    "        ylabel='Avg. House Value',\n",
    "        color='blue',\n",
    "    )\n",
    "\n",
    "def average_value_by_neighbourhood_and_year():\n",
    "    \"\"\"Average House Values in Toronto per Neighbourhood\"\"\"\n",
    "    return px.bar(\n",
    "        # Select neighbourhood and average_house_value columns\n",
    "        to_data[['neighbourhood', 'average_house_value']],\n",
    "        # Set plot title\n",
    "        title='Average House Values in Toronto per Neighbourhood',\n",
    "        # column of x values\n",
    "        x='neighbourhood',\n",
    "        # column of y values\n",
    "        y='average_house_value',\n",
    "        # Set color scale according to average house value\n",
    "        color='average_house_value',\n",
    "        # group data by year\n",
    "        facet_row=to_data.index,\n",
    "        # Display average_house_value as 'Avg. House Value'\n",
    "        labels={\n",
    "            'average_house_value': 'Avg. House Value',\n",
    "        },\n",
    "        # Set height of the plot\n",
    "        height=1000,\n",
    "    )\n",
    "\n",
    "def top_most_expensive_neighbourhoods():\n",
    "    \"\"\"Top 10 most expensive neighbourhoods.\"\"\"\n",
    "    df_top_10_expensive_neighbourhoods = (\n",
    "        # select neighbourhood and average house value columns\n",
    "        to_data[['neighbourhood', 'average_house_value']]\n",
    "            # group by neighbourhood\n",
    "            .groupby(['neighbourhood'])\n",
    "            # calculate the mean\n",
    "            .mean()\n",
    "            # sort the values with the most expensive first\n",
    "            .sort_values(by=['average_house_value'], ascending=False)\n",
    "            # select only the top 10 (most expensive)\n",
    "            .iloc[:10]\n",
    "    )\n",
    "    return df_top_10_expensive_neighbourhoods.hvplot.bar(\n",
    "        title='Top 10 Expensive Neighbourhoods in Toronto',\n",
    "        xlabel='Neighbourhood',\n",
    "        ylabel='Avg. House Value',\n",
    "        height=500,\n",
    "        rot=90,\n",
    "        yformatter='%.0f',\n",
    "    )\n",
    "\n",
    "def sunburts_cost_analysis():\n",
    "    \"\"\"Sunburst chart to conduct a costs analysis of most expensive neighbourhoods in Toronto per year.\"\"\"\n",
    "    # Fetch the data from all expensive neighbourhoods per year.\n",
    "    # Select neighbourhood and average house value columns\n",
    "    df_top_10_expensive_neighbourhoods_year = to_data[['neighbourhood', 'average_house_value']]\n",
    "    # Select the top 10 most expensive neighbourhoods\n",
    "    df_top_10_expensive_neighbourhoods_year = df_top_10_expensive_neighbourhoods_year[to_data['neighbourhood'].isin(df_top_10_expensive_neighbourhoods.index)]\n",
    "    # Reset index and make the year a column\n",
    "    df_top_10_expensive_neighbourhoods_year.reset_index(inplace=True)\n",
    "    fig = px.sunburst(\n",
    "        df_top_10_expensive_neighbourhoods_year,\n",
    "        title='Costs Analysis of Most Expensive Neighbourhoods in Toronto per Year',\n",
    "        path=['year', 'neighbourhood'],\n",
    "        values='average_house_value',\n",
    "        color='average_house_value',\n",
    "        labels={\n",
    "            'average_house_value': 'Avg. House Value',\n",
    "        },\n",
    "    )\n",
    "\n",
    "    return fig"
   ]
  },
  {
   "cell_type": "markdown",
   "metadata": {},
   "source": [
    "## Panel Dashboard\n",
    "\n",
    "In this section, you will combine all of the plots into a single dashboard view using Panel. Be creative with your dashboard design!"
   ]
  },
  {
   "cell_type": "code",
   "execution_count": null,
   "metadata": {},
   "outputs": [],
   "source": [
    "# Create a Title for the Dashboard\n",
    "# YOUR CODE HERE!\n",
    "\n",
    "# Define a welcome text\n",
    "# YOUR CODE HERE!\n",
    "\n",
    "# Create a tab layout for the dashboard\n",
    "# YOUR CODE HERE!\n",
    "\n",
    "\n",
    "# Create the main dashboard\n",
    "# YOUR CODE HERE!"
   ]
  },
  {
   "cell_type": "markdown",
   "metadata": {},
   "source": [
    "## Serve the Panel Dashboard"
   ]
  },
  {
   "cell_type": "code",
   "execution_count": null,
   "metadata": {},
   "outputs": [],
   "source": [
    "dashboard.servable()"
   ]
  },
  {
   "cell_type": "markdown",
   "metadata": {},
   "source": [
    "# Debugging\n",
    "\n",
    "Note: Some of the Plotly express plots may not render in the notebook through the panel functions.\n",
    "\n",
    "However, you can test each plot by uncommenting the following code"
   ]
  },
  {
   "cell_type": "code",
   "execution_count": null,
   "metadata": {},
   "outputs": [],
   "source": [
    "# neighbourhood_map().show()"
   ]
  },
  {
   "cell_type": "code",
   "execution_count": null,
   "metadata": {},
   "outputs": [],
   "source": [
    "# create_bar_chart(data, title, xlabel, ylabel, color)\n",
    "\n",
    "# # Bar chart for 2001\n",
    "# create_bar_chart(df_dwelling_units.loc[2001], \"Dwelling Types in Toronto in 2001\", \"2001\", \"Dwelling Type Units\", \"red\")\n",
    "\n",
    "# # Bar chart for 2006\n",
    "# create_bar_chart(df_dwelling_units.loc[2006], \"Dwelling Types in Toronto in 2006\", \"2006\", \"Dwelling Type Units\", \"blue\")\n",
    "\n",
    "# # Bar chart for 2011\n",
    "# create_bar_chart(df_dwelling_units.loc[2011], \"Dwelling Types in Toronto in 2011\", \"2011\", \"Dwelling Type Units\", \"orange\")\n",
    "\n",
    "# # Bar chart for 2016\n",
    "# create_bar_chart(df_dwelling_units.loc[2016], \"Dwelling Types in Toronto in 2016\", \"2016\", \"Dwelling Type Units\", \"magenta\")"
   ]
  },
  {
   "cell_type": "code",
   "execution_count": null,
   "metadata": {},
   "outputs": [],
   "source": [
    "# create_line_chart(data, title, xlabel, ylabel, color)\n",
    "\n",
    "# # Line chart for owned dwellings\n",
    "# create_line_chart(df_avg_costs[\"shelter_costs_owned\"], \"Average Monthly Shelter Cost for Owned Dwellings in Toronto\", \"Year\", \"Avg Monthly Shelter Costs\", \"blue\")\n",
    "\n",
    "# # Line chart for rented dwellings\n",
    "# create_line_chart(df_avg_costs[\"shelter_costs_rented\"], \"Average Monthly Shelter Cost for Rented Dwellings in Toronto\", \"Year\", \"Avg Monthly Shelter Costs\", \"orange\")"
   ]
  },
  {
   "cell_type": "code",
   "execution_count": null,
   "metadata": {},
   "outputs": [],
   "source": [
    "# average_house_value()"
   ]
  },
  {
   "cell_type": "code",
   "execution_count": null,
   "metadata": {},
   "outputs": [],
   "source": [
    "# average_value_by_neighbourhood()"
   ]
  },
  {
   "cell_type": "code",
   "execution_count": null,
   "metadata": {},
   "outputs": [],
   "source": [
    "# number_dwelling_types()"
   ]
  },
  {
   "cell_type": "code",
   "execution_count": null,
   "metadata": {},
   "outputs": [],
   "source": [
    "# average_house_value_snapshot()"
   ]
  },
  {
   "cell_type": "code",
   "execution_count": null,
   "metadata": {},
   "outputs": [],
   "source": [
    "# top_most_expensive_neighbourhoods()"
   ]
  },
  {
   "cell_type": "code",
   "execution_count": null,
   "metadata": {},
   "outputs": [],
   "source": [
    "# sunburts_cost_analysis()"
   ]
  }
 ],
 "metadata": {
  "file_extension": ".py",
  "interpreter": {
   "hash": "9b40c136f6a553a5f7fe572d835b5412d355ca545b0f8ff0e27aed83532e4418"
  },
  "kernelspec": {
   "display_name": "Python [conda env:pyvizenv25] *",
   "language": "python",
   "name": "python3"
  },
  "language_info": {
   "codemirror_mode": {
    "name": "ipython",
    "version": 3
   },
   "file_extension": ".py",
   "mimetype": "text/x-python",
   "name": "python",
   "nbconvert_exporter": "python",
   "pygments_lexer": "ipython3",
   "version": "3.7.11"
  },
  "mimetype": "text/x-python",
  "name": "python",
  "npconvert_exporter": "python",
  "pygments_lexer": "ipython3",
  "version": 3
 },
 "nbformat": 4,
 "nbformat_minor": 4
}
